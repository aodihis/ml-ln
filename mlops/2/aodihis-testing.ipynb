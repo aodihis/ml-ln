{
 "cells": [
  {
   "metadata": {
    "ExecuteTime": {
     "end_time": "2025-06-22T12:54:12.973455Z",
     "start_time": "2025-06-22T12:54:12.526589Z"
    }
   },
   "cell_type": "code",
   "source": [
    "# Import the required library\n",
    "import requests\n",
    "\n",
    "# Define the endpoint URL\n",
    "url = \"https://cinnamon-classification-production.up.railway.app/v1/models/cinnamon-classification-model/metadata\"\n",
    "\n",
    "# Make a GET request to the endpoint\n",
    "response = requests.get(url)\n",
    "\n",
    "# Check the response status and print the result\n",
    "if response.status_code == 200:\n",
    "    print(\"Request Successful!\")\n",
    "    print(\"Metadata Retrieved:\")\n",
    "    print(response.json())  # If the response is JSON formatted\n",
    "else:\n",
    "    print(f\"Request Failed! Status Code: {response.status_code}\")\n",
    "    print(\"Reason:\", response.text)"
   ],
   "id": "75a4831698ffc9b",
   "outputs": [
    {
     "name": "stdout",
     "output_type": "stream",
     "text": [
      "Request Successful!\n",
      "Metadata Retrieved:\n",
      "{'model_spec': {'name': 'cinnamon-classification-model', 'signature_name': '', 'version': '1750596585'}, 'metadata': {'signature_def': {'signature_def': {'serving_default': {'inputs': {'examples': {'dtype': 'DT_STRING', 'tensor_shape': {'dim': [{'size': '-1', 'name': ''}], 'unknown_rank': False}, 'name': 'serving_default_examples:0'}}, 'outputs': {'outputs': {'dtype': 'DT_FLOAT', 'tensor_shape': {'dim': [{'size': '-1', 'name': ''}, {'size': '3', 'name': ''}], 'unknown_rank': False}, 'name': 'StatefulPartitionedCall_1:0'}}, 'method_name': 'tensorflow/serving/predict', 'defaults': {}}, '__saved_model_init_op': {'inputs': {}, 'outputs': {'__saved_model_init_op': {'dtype': 'DT_INVALID', 'tensor_shape': {'dim': [], 'unknown_rank': True}, 'name': 'NoOp'}}, 'method_name': '', 'defaults': {}}, 'transform_features': {'inputs': {'examples': {'dtype': 'DT_STRING', 'tensor_shape': {'dim': [{'size': '-1', 'name': ''}], 'unknown_rank': False}, 'name': 'transform_features_examples:0'}}, 'outputs': {'Chromium_xf': {'dtype': 'DT_FLOAT', 'tensor_shape': {'dim': [{'size': '-1', 'name': ''}, {'size': '1', 'name': ''}], 'unknown_rank': False}, 'name': 'StatefulPartitionedCall_2:2'}, 'Volatile_Oil_xf': {'dtype': 'DT_FLOAT', 'tensor_shape': {'dim': [{'size': '-1', 'name': ''}, {'size': '1', 'name': ''}], 'unknown_rank': False}, 'name': 'StatefulPartitionedCall_2:6'}, 'Coumarin_xf': {'dtype': 'DT_FLOAT', 'tensor_shape': {'dim': [{'size': '-1', 'name': ''}, {'size': '1', 'name': ''}], 'unknown_rank': False}, 'name': 'StatefulPartitionedCall_2:3'}, 'Quality_Label_xf': {'dtype': 'DT_INT64', 'tensor_shape': {'dim': [{'size': '-1', 'name': ''}, {'size': '1', 'name': ''}], 'unknown_rank': False}, 'name': 'StatefulPartitionedCall_2:5'}, 'Ash_xf': {'dtype': 'DT_FLOAT', 'tensor_shape': {'dim': [{'size': '-1', 'name': ''}, {'size': '1', 'name': ''}], 'unknown_rank': False}, 'name': 'StatefulPartitionedCall_2:1'}, 'Moisture_xf': {'dtype': 'DT_FLOAT', 'tensor_shape': {'dim': [{'size': '-1', 'name': ''}, {'size': '1', 'name': ''}], 'unknown_rank': False}, 'name': 'StatefulPartitionedCall_2:4'}, 'Acid_Insoluble_Ash_xf': {'dtype': 'DT_FLOAT', 'tensor_shape': {'dim': [{'size': '-1', 'name': ''}, {'size': '1', 'name': ''}], 'unknown_rank': False}, 'name': 'StatefulPartitionedCall_2:0'}}, 'method_name': 'tensorflow/serving/predict', 'defaults': {}}}}}}\n"
     ]
    }
   ],
   "execution_count": 2
  },
  {
   "metadata": {
    "ExecuteTime": {
     "end_time": "2025-06-22T12:58:29.607596Z",
     "start_time": "2025-06-22T12:58:27.830247Z"
    }
   },
   "cell_type": "code",
   "source": [
    "import numpy as np\n",
    "import base64\n",
    "import tensorflow as tf\n",
    "\n",
    "# Create a tf.train.Example from your features\n",
    "example = tf.train.Example(features=tf.train.Features(feature={\n",
    "    \"Moisture\": tf.train.Feature(float_list=tf.train.FloatList(value=[3.0])),\n",
    "    \"Ash\": tf.train.Feature(float_list=tf.train.FloatList(value=[2.0])),\n",
    "    \"Volatile_Oil\": tf.train.Feature(float_list=tf.train.FloatList(value=[1.0])),\n",
    "    \"Acid_Insoluble_Ash\": tf.train.Feature(float_list=tf.train.FloatList(value=[4.0])),\n",
    "    \"Chromium\": tf.train.Feature(float_list=tf.train.FloatList(value=[10.0])),\n",
    "    \"Coumarin\": tf.train.Feature(float_list=tf.train.FloatList(value=[1.0])),\n",
    "}))\n",
    "\n",
    "# Serialize and base64 encode\n",
    "serialized = example.SerializeToString()\n",
    "b64_example = base64.b64encode(serialized).decode(\"utf-8\")\n",
    "\n",
    "# Create the payload\n",
    "payload = {\n",
    "    \"instances\": [{\"b64\": b64_example}]\n",
    "}\n",
    "\n",
    "url = \"https://cinnamon-classification-production.up.railway.app/v1/models/cinnamon-classification-model:predict\"\n",
    "# Send request\n",
    "response = requests.post(url, json=payload)\n",
    "\n",
    "# Output\n",
    "print(\"Status code:\", response.status_code)\n",
    "print(\"Response JSON:\", response.json())\n",
    "\n",
    "# Get predicted class index\n",
    "prediction = tf.argmax(response.json()[\"predictions\"][0]).numpy()\n",
    "\n",
    "# If you have a label map:\n",
    "label_map = {0: \"Low\", 1: \"Medium\", 2: \"High\"}\n",
    "predicted_label = label_map[prediction]  # \"High\"\n",
    "predicted_label"
   ],
   "id": "ba9bea37f4b1a0fa",
   "outputs": [
    {
     "name": "stdout",
     "output_type": "stream",
     "text": [
      "Status code: 200\n",
      "Response JSON: {'predictions': [[0.0, 0.0, 1.0]]}\n"
     ]
    },
    {
     "data": {
      "text/plain": [
       "'High'"
      ]
     },
     "execution_count": 10,
     "metadata": {},
     "output_type": "execute_result"
    }
   ],
   "execution_count": 10
  },
  {
   "metadata": {},
   "cell_type": "code",
   "outputs": [],
   "execution_count": null,
   "source": "",
   "id": "d55b449b5a93db5c"
  }
 ],
 "metadata": {
  "kernelspec": {
   "display_name": "Python 3",
   "language": "python",
   "name": "python3"
  },
  "language_info": {
   "codemirror_mode": {
    "name": "ipython",
    "version": 2
   },
   "file_extension": ".py",
   "mimetype": "text/x-python",
   "name": "python",
   "nbconvert_exporter": "python",
   "pygments_lexer": "ipython2",
   "version": "2.7.6"
  }
 },
 "nbformat": 4,
 "nbformat_minor": 5
}
